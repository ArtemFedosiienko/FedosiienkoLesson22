{
 "cells": [
  {
   "cell_type": "markdown",
   "id": "c235a244",
   "metadata": {},
   "source": [
    "# FedosiienkoLesson22_1\n",
    "Завдання_1 "
   ]
  },
  {
   "cell_type": "code",
   "execution_count": 1,
   "id": "ed094917",
   "metadata": {},
   "outputs": [
    {
     "name": "stdout",
     "output_type": "stream",
     "text": [
      "Кількість студентів що отримали хоча б по одній відмінній оцінці - 32\n"
     ]
    }
   ],
   "source": [
    "def good_mark():\n",
    "         \n",
    "     return   M + F + H - (M_F + M_H + F_H) + M_F_H   \n",
    "\n",
    "M = 15\n",
    "F = 16\n",
    "H = 19\n",
    "M_F = 7\n",
    "M_H = 9\n",
    "F_H = 6\n",
    "M_F_H = 4\n",
    "Tot = 37\n",
    "\n",
    "print(f\"Кількість студентів що отримали хоча б по одній відмінній оцінці - {good_mark()}\")   \n"
   ]
  },
  {
   "cell_type": "code",
   "execution_count": null,
   "id": "10ff9603",
   "metadata": {},
   "outputs": [],
   "source": []
  }
 ],
 "metadata": {
  "kernelspec": {
   "display_name": "Python 3 (ipykernel)",
   "language": "python",
   "name": "python3"
  },
  "language_info": {
   "codemirror_mode": {
    "name": "ipython",
    "version": 3
   },
   "file_extension": ".py",
   "mimetype": "text/x-python",
   "name": "python",
   "nbconvert_exporter": "python",
   "pygments_lexer": "ipython3",
   "version": "3.9.13"
  }
 },
 "nbformat": 4,
 "nbformat_minor": 5
}
