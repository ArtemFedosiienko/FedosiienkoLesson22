{
 "cells": [
  {
   "cell_type": "markdown",
   "id": "bad2ec91",
   "metadata": {},
   "source": [
    "# FedosiienkoLesson22_2\n",
    "Завдання_2\n"
   ]
  },
  {
   "cell_type": "code",
   "execution_count": 2,
   "id": "61572f3a",
   "metadata": {},
   "outputs": [
    {
     "name": "stdout",
     "output_type": "stream",
     "text": [
      "Гарна погода була 15 днів\n"
     ]
    }
   ],
   "source": [
    "def good_days():\n",
    "    \n",
    "    return  Tot_days - (R + W + C - (R_W + R_C + W_C) + R_W_C)     \n",
    "    \n",
    "Tot_days = 30\n",
    "R = 12\n",
    "W = 8\n",
    "C = 4\n",
    "R_W = 5\n",
    "R_C = 3\n",
    "W_C = 2\n",
    "R_W_C = 1\n",
    "\n",
    "print(f\"Гарна погода була {good_days()} днів\")"
   ]
  },
  {
   "cell_type": "code",
   "execution_count": null,
   "id": "867375a4",
   "metadata": {},
   "outputs": [],
   "source": []
  }
 ],
 "metadata": {
  "kernelspec": {
   "display_name": "Python 3 (ipykernel)",
   "language": "python",
   "name": "python3"
  },
  "language_info": {
   "codemirror_mode": {
    "name": "ipython",
    "version": 3
   },
   "file_extension": ".py",
   "mimetype": "text/x-python",
   "name": "python",
   "nbconvert_exporter": "python",
   "pygments_lexer": "ipython3",
   "version": "3.9.13"
  }
 },
 "nbformat": 4,
 "nbformat_minor": 5
}
